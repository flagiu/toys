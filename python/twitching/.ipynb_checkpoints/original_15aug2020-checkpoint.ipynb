{
 "cells": [
  {
   "cell_type": "markdown",
   "metadata": {},
   "source": [
    "# Twitching motility - F.Giuliani 2020\n",
    "2D point-like tug-of-war simulation. Main source: Marathe et al. (2014).\n",
    "\n",
    "Simplified version: no bundling nor re-elongation"
   ]
  },
  {
   "cell_type": "markdown",
   "metadata": {},
   "source": [
    "$\\color{red}{\\text{!!! Image-saving functions are commented out !!!}}$"
   ]
  },
  {
   "cell_type": "code",
   "execution_count": 1,
   "metadata": {},
   "outputs": [],
   "source": [
    "import numpy as np\n",
    "from matplotlib.pyplot import *\n",
    "from scipy.optimize import curve_fit"
   ]
  },
  {
   "cell_type": "markdown",
   "metadata": {},
   "source": [
    "### Physical parameters (for Type IV Pili)\n",
    "units: picoNewton, micron, second"
   ]
  },
  {
   "cell_type": "code",
   "execution_count": 2,
   "metadata": {
    "jupyter": {
     "source_hidden": true
    }
   },
   "outputs": [],
   "source": [
    "gamma=0.1 #drag coefficient (pN*sec/micron)\n",
    "L0=0.001 #length of newborn pilus\n",
    "t1=0.85\n",
    "t2=0.04\n",
    "Fd1=1.28\n",
    "Fd2=33.8\n",
    "Fs=180 #stall force\n",
    "vr=2 #retracting speed (1 if anaerobic)\n",
    "ve=2 #elongating speed"
   ]
  },
  {
   "cell_type": "markdown",
   "metadata": {},
   "source": [
    "### Stochastic parameters"
   ]
  },
  {
   "cell_type": "markdown",
   "metadata": {},
   "source": [
    "For Wild Type strain of N.gonorrhoeae"
   ]
  },
  {
   "cell_type": "code",
   "execution_count": 75,
   "metadata": {
    "jupyter": {
     "source_hidden": true
    }
   },
   "outputs": [],
   "source": [
    "n_WT=7 #average number of pili for wild strain\n",
    "c_WT=9 #pili creation rate (=> <n>=n_WT=7)\n",
    "a0_WT=2.4 #attachment rate (=> <L>=1 micron)"
   ]
  },
  {
   "cell_type": "markdown",
   "metadata": {},
   "source": [
    "For our cell"
   ]
  },
  {
   "cell_type": "code",
   "execution_count": 4,
   "metadata": {
    "jupyter": {
     "source_hidden": true
    }
   },
   "outputs": [],
   "source": [
    "c=c_WT\n",
    "a0=a0_WT\n",
    "pi0=pi0_WT"
   ]
  },
  {
   "cell_type": "markdown",
   "metadata": {},
   "source": [
    "### Classes and functions\n",
    "We use Euler integration."
   ]
  },
  {
   "cell_type": "code",
   "execution_count": 5,
   "metadata": {
    "jupyter": {
     "source_hidden": true
    }
   },
   "outputs": [],
   "source": [
    "class Pilus:\n",
    "    \n",
    "    def __init__(self):\n",
    "        self.L=L0 #startig length\n",
    "        self.a0=np.random.uniform(-np.pi,np.pi) #random starting angle\n",
    "        self.F=0 #force (nonzero only when binded to the surface)\n",
    "        self.bi=False #state: binded to the surface?\n",
    "        self.el=True #state: elongating?\n",
    "        self.a=self.a0 #dynamical angle (varies during retraction)\n",
    "        \n",
    "    ### DETERMINISTIC FUNCTIONS ###\n",
    "    \n",
    "    def x(self):\n",
    "        return self.L*np.cos(self.a)\n",
    "    \n",
    "    def y(self):\n",
    "        return self.L*np.sin(self.a)\n",
    "    \n",
    "    def Fx(self):\n",
    "        return self.F*np.cos(self.a)\n",
    "    \n",
    "    def Fy(self):\n",
    "        return self.F*np.sin(self.a)\n",
    "    \n",
    "    def bind(self):\n",
    "        # if binding takes place, then also retract\n",
    "        self.bi=True\n",
    "        self.el=False\n",
    "        global bi_\n",
    "        bi_+=1\n",
    "    \n",
    "    def unbinding_rate(self):\n",
    "        return 1/(t1*np.exp(-abs(self.F)/Fd1)+t2*np.exp(-abs(self.F)/Fd2))\n",
    "        \n",
    "    def unbind(self):\n",
    "        global ubi\n",
    "        ubi+=1\n",
    "        #unbinding and keep retracting (??)\n",
    "        self.bi=False\n",
    "        self.a=self.a0\n",
    "    \n",
    "    ### STOCHASTIC FUNCION ###\n",
    "    def update_binding(self):\n",
    "        # if binded, use unbinding rate to unbind\n",
    "        if self.bi:\n",
    "            if (np.random.uniform(0,1)<self.unbinding_rate()*dt): self.unbind()\n",
    "        # if unbinded, use binding rates, but only if elongating\n",
    "        elif self.el:\n",
    "            if (np.random.uniform(0,1)<p_a0): self.bind()"
   ]
  },
  {
   "cell_type": "code",
   "execution_count": 6,
   "metadata": {
    "jupyter": {
     "source_hidden": true
    }
   },
   "outputs": [],
   "source": [
    "class Cell:\n",
    "    \n",
    "    def __init__(self):\n",
    "        self.x=np.zeros(2) #x-y position\n",
    "        self.v=np.zeros(2) #x-y speed\n",
    "        self.n=np.random.randint(1,n_WT+1) #number of pili\n",
    "        self.pili=[]\n",
    "        for i in range(self.n):\n",
    "            self.pili.append(Pilus())\n",
    "        self.nB=0 #number of binded pili\n",
    "        self.Bpili_indexes=[] #list of the indexes of binded pili\n",
    "        \n",
    "    ############## DETERMINISTIC FORCE CALCULATION, with matrices algebra #######################\n",
    "    #also updates self.n,self.nB,self.Bpili_indexes\n",
    "    \n",
    "    def solve_forces(self,Bindexes):\n",
    "        nB=len(Bindexes)\n",
    "        if nB==0: return [None,None]\n",
    "        \n",
    "        C=np.zeros((nB,nB)) #temp. matrix for cosines\n",
    "        for i in range(nB):\n",
    "            for j in range(i+1,nB):\n",
    "                C[i][j]=np.cos(self.pili[Bindexes[i]].a-self.pili[Bindexes[j]].a)\n",
    "        A= C + C.T + beta*np.eye(nB) \n",
    "        b=phi*np.ones(nB)\n",
    "        F=np.linalg.solve(A,b)\n",
    "        if (F<0).any():\n",
    "            #Bindexes_active are the indexes of the pili which are effectively pulling\n",
    "            #we do not count the ones for which the algebra gives negative force ('compressed')\n",
    "            #we treat the latter as binded pili which do not contribute to the force balance (zero force)\n",
    "            Bindexes_active=[Bindexes[i] for i in range(nB) if F[i]>0]\n",
    "            F,Bindexes=self.solve_forces(Bindexes_active)\n",
    "        return [F,Bindexes]\n",
    "    \n",
    "    def calc_forces(self):\n",
    "        self.n=len(self.pili)\n",
    "        self.Bpili_indexes=[] #list of binded-pili indexes\n",
    "        for index,p in enumerate(self.pili):\n",
    "            p.F=0\n",
    "            if p.bi: self.Bpili_indexes.append(index)\n",
    "        self.nB=len(self.Bpili_indexes)\n",
    "        \n",
    "        if self.nB>0: #solve the linear system A*F=b for binded-pili forces F (see text)\n",
    "            Forces,Bpi_active=self.solve_forces(self.Bpili_indexes)\n",
    "            for F,Bi in zip(Forces,Bpi_active):\n",
    "                self.pili[Bi].F = F\n",
    "    \n",
    "        \n",
    "    ############# STOCHASTIC FUNCTIONS ###########################\n",
    "    def bindings(self):\n",
    "        for p in self.pili:\n",
    "            p.update_binding()\n",
    "    \n",
    "    \n",
    "    def add_pili(self):\n",
    "        #try to grow a new pilus\n",
    "        if np.random.uniform(0,1)<p_c:\n",
    "            self.pili.append(Pilus())\n",
    "            self.n+=1\n",
    "    \n",
    "    ############### DETERMINISTIC MOVEMENT ##################\n",
    "    #body: the speed is proportional to the sum of the pili forces (from v(F) relation)\n",
    "    #free pili: uniform radial elongation\n",
    "    #binded pili: update angle and length after cell's movement\n",
    "    def move(self):\n",
    "        self.v=np.zeros(2)\n",
    "        for p in self.pili:\n",
    "            #if binded, add the force\n",
    "            if p.bi:\n",
    "                self.v[0]+=p.Fx()\n",
    "                self.v[1]+=p.Fy()\n",
    "            #else, move the pilus\n",
    "            else:\n",
    "                if p.el: p.L+=ve*dt\n",
    "                else: p.L-=vr*dt\n",
    "        self.v=self.v/gamma\n",
    "        dx=self.v*dt\n",
    "        self.x+=dx\n",
    "        \n",
    "        #update pili lengths and dynamical angles\n",
    "        for Bi in self.Bpili_indexes:\n",
    "            #xp,yp are the coordinates of the Bi-th binded-pilus, with origin in the cell's new position x+dx\n",
    "            xp=self.pili[Bi].x() - dx[0]\n",
    "            yp=self.pili[Bi].y() - dx[1]\n",
    "            Lp = np.sqrt(xp*xp+yp*yp)\n",
    "            self.pili[Bi].L=Lp\n",
    "            if Lp>=L0:\n",
    "                self.pili[Bi].a = np.arctan2(yp/Lp,xp/Lp)\n",
    "        \n",
    "        #check for zero-length events\n",
    "        for j in range(self.n):\n",
    "            i=self.n-j-1 #start from the end\n",
    "            if self.pili[i].L<L0:\n",
    "                global zeroL\n",
    "                zeroL+=1\n",
    "                self.pili.pop(i)\n",
    "                self.n-=1\n",
    "                #update Bpili_indexes after .pop(i): the following indexes must shift backwards by 1\n",
    "                for k in range(self.nB):\n",
    "                    if self.Bpili_indexes[k]>i: self.Bpili_indexes[k]-=1\n",
    "        \n",
    "                \n",
    "    \n",
    "    ############### SIMULATION STEP ########################\n",
    "    def step(self):\n",
    "            #stochastic events\n",
    "        self.bindings()\n",
    "        self.add_pili()\n",
    "            #update force balance\n",
    "        self.calc_forces()\n",
    "            #deterministic movements\n",
    "        self.move()\n",
    "            #update force balance\n",
    "        self.calc_forces();"
   ]
  },
  {
   "cell_type": "markdown",
   "metadata": {},
   "source": [
    "### Simulation parameters"
   ]
  },
  {
   "cell_type": "markdown",
   "metadata": {},
   "source": [
    "You can modify these parameters. In Marathe2014 they used: dt=1e-4, Ttransient=5s, T=40s, res=0.1s"
   ]
  },
  {
   "cell_type": "code",
   "execution_count": 76,
   "metadata": {},
   "outputs": [],
   "source": [
    "#single path\n",
    "dt=0.0001 #simulation step\n",
    "Ttransient=5 #transient time\n",
    "T=40 #experiment time\n",
    "res=0.1 #experimental resolution (for snapshots)"
   ]
  },
  {
   "cell_type": "markdown",
   "metadata": {},
   "source": [
    "Don't modify this code"
   ]
  },
  {
   "cell_type": "code",
   "execution_count": 8,
   "metadata": {
    "jupyter": {
     "source_hidden": true
    }
   },
   "outputs": [],
   "source": [
    "#simulation steps\n",
    "ntransient=int(Ttransient/dt)\n",
    "nsteps=int(T/dt)\n",
    "n_res=int(res/dt)\n",
    "## adimensional probabilities\n",
    "p_c=c*dt\n",
    "p_a0=a0*dt\n",
    "p_pi0=pi0*dt\n",
    "#variabili di appoggio\n",
    "alpha=gamma*vr/Fs\n",
    "phi=gamma*vr\n",
    "beta=1+alpha"
   ]
  },
  {
   "cell_type": "markdown",
   "metadata": {},
   "source": [
    "### Frame-saving function"
   ]
  },
  {
   "cell_type": "code",
   "execution_count": 10,
   "metadata": {},
   "outputs": [],
   "source": [
    "def saveFrame(xs,ys,cell,index):\n",
    "    figure(figsize=(10,8))\n",
    "    subplot(111,autoscale_on=False,xlim=(-6,6),ylim=(-6,6))\n",
    "    gca().set_aspect('equal')\n",
    "    plot(xs,ys,'gray',alpha=0.5)\n",
    "    for p in cell.pili:\n",
    "        x12=[xs[-1], xs[-1]+p.x()]\n",
    "        y12=[ys[-1], ys[-1]+p.y()]\n",
    "        if p.bi:\n",
    "            col='r'\n",
    "            lst='-'\n",
    "        elif p.el:\n",
    "            col='g'\n",
    "            lst='-'\n",
    "        else:\n",
    "            col='b'\n",
    "            lst='--'\n",
    "        plot(x12,y12,color=col,linestyle=lst,alpha=0.9)\n",
    "    plot(xs[-1],ys[-1],'.k',alpha=0.9)\n",
    "    xlabel('x [$\\mu$m]')\n",
    "    ylabel('y [$\\mu$m]')\n",
    "    title('Twitching motility (resolution: %1gs)'%(res))\n",
    "    #title('Pili: %2d. Binded: %d'%(cell.n,cell.nB))\n",
    "    savefig('frames/frame%4d.png'%(index))\n",
    "    close()"
   ]
  },
  {
   "cell_type": "markdown",
   "metadata": {},
   "source": [
    "## Main program"
   ]
  },
  {
   "cell_type": "code",
   "execution_count": 11,
   "metadata": {},
   "outputs": [
    {
     "name": "stdout",
     "output_type": "stream",
     "text": [
      "Simulated time:  40 s at resolution  0.1 s\n",
      "zeroL:  403\n",
      "bindings:  407\n",
      "unbindings:  327\n",
      "CPU times: user 2min 13s, sys: 1.03 s, total: 2min 14s\n",
      "Wall time: 2min 14s\n"
     ]
    }
   ],
   "source": [
    "%%time\n",
    "#initialization\n",
    "zeroL=0\n",
    "ubi=0\n",
    "bi_=0\n",
    "Cs=[]\n",
    "xs=[]\n",
    "ys=[]\n",
    "ns=[]\n",
    "nBs=[]\n",
    "Ls=[]\n",
    "avgLs=[]\n",
    "vxs=[]\n",
    "vys=[]\n",
    "frm=0\n",
    "C=Cell()\n",
    "############### transient time\n",
    "for i in range(ntransient):\n",
    "    C.step()\n",
    "\n",
    "C.x=np.zeros(2) #restore cell's position at the origin\n",
    "\n",
    "for i in range(nsteps):\n",
    "    C.step()\n",
    "    #Data Storage\n",
    "    #Cs.append(copy.deepcopy(C))\n",
    "    if (i%n_res)==0:\n",
    "        if C.n>0:\n",
    "            L=0\n",
    "            for p in C.pili:\n",
    "                Ls.append(p.L)\n",
    "                L+=p.L\n",
    "            avgLs.append(L/len(C.pili))\n",
    "        vxs.append(C.v[0])\n",
    "        vys.append(C.v[1])\n",
    "        ns.append(C.n)\n",
    "        nBs.append(C.nB)\n",
    "        xs.append(C.x[0])\n",
    "        ys.append(C.x[1])\n",
    "        #saveFrame(xs,ys,C,frm+1000)\n",
    "        frm+=1\n",
    "print('Simulated time: ',T,'s at resolution ',1/frame_res,'s')\n",
    "print('zeroL: ',zeroL)\n",
    "print('bindings: ',bi_)\n",
    "print('unbindings: ',ubi)"
   ]
  },
  {
   "cell_type": "markdown",
   "metadata": {},
   "source": [
    "### Plots"
   ]
  },
  {
   "cell_type": "markdown",
   "metadata": {},
   "source": [
    "2D Trajectory"
   ]
  },
  {
   "cell_type": "code",
   "execution_count": 77,
   "metadata": {},
   "outputs": [
    {
     "data": {
      "image/png": "[encoded data removed]",
      "text/plain": [
       "<Figure size 432x288 with 1 Axes>"
      ]
     },
     "metadata": {},
     "output_type": "display_data"
    }
   ],
   "source": [
    "from mpl_toolkits.axes_grid1.anchored_artists import AnchoredSizeBar\n",
    "fig, ax = subplots()\n",
    "fig.gca().set_aspect('equal')\n",
    "ax.plot(xs,ys)\n",
    "bar_ = AnchoredSizeBar(ax.transData, 1, '1 $\\mu$m',4,frameon=False,size_vertical=0.05)\n",
    "ax.add_artist(bar_)\n",
    "tick_params( \n",
    "    axis='both',       # changes apply to both axis\n",
    "    which='both',      # both major and minor ticks are affected\n",
    "    bottom=False, top=False, labelbottom=False,\n",
    "    right=False, left=False, labelleft=False)\n",
    "\n",
    "#fig.savefig('temp_trajectory.png')"
   ]
  },
  {
   "cell_type": "markdown",
   "metadata": {},
   "source": [
    "Speed"
   ]
  },
  {
   "cell_type": "code",
   "execution_count": 78,
   "metadata": {},
   "outputs": [
    {
     "data": {
      "text/plain": [
       "Text(0, 0.5, 'direction of motion [rad]')"
      ]
     },
     "execution_count": 78,
     "metadata": {},
     "output_type": "execute_result"
    },
    {
     "data": {
      "image/png": "[encoded data removed]",
      "text/plain": [
       "<Figure size 864x288 with 2 Axes>"
      ]
     },
     "metadata": {
      "needs_background": "light"
     },
     "output_type": "display_data"
    }
   ],
   "source": [
    "t=np.arange(len(xs))*res\n",
    "vx=np.asarray(vxs)\n",
    "vy=np.asarray(vys)\n",
    "\n",
    "figure(figsize=(12,4))\n",
    "subplot(121)\n",
    "plot(t,np.sqrt(vx**2+vy**2))\n",
    "xlim(0,10)\n",
    "ylim(0,6)\n",
    "xlabel('t [s]')\n",
    "ylabel('$|v_b|$ [$\\mu$m/s]')\n",
    "\n",
    "subplot(122)\n",
    "plot(t,np.arctan2(vy,vx))\n",
    "yticks([-np.pi, -np.pi/2, 0, np.pi/2, np.pi],[r'$-\\pi$', r'$-\\pi/2$', r'$0$', r'$\\pi/2$', r'$\\pi$'])\n",
    "xlim(0,10)\n",
    "xlabel('t [s]')\n",
    "ylabel('direction of motion [rad]')\n",
    "\n",
    "#savefig('temp_speed.png')"
   ]
  },
  {
   "cell_type": "markdown",
   "metadata": {},
   "source": [
    "Number of pili and binded pili"
   ]
  },
  {
   "cell_type": "code",
   "execution_count": 80,
   "metadata": {},
   "outputs": [
    {
     "data": {
      "text/plain": [
       "Text(0.5, 0, 'binded pili per frame')"
      ]
     },
     "execution_count": 80,
     "metadata": {},
     "output_type": "execute_result"
    },
    {
     "data": {
      "image/png": "[encoded data removed]",
      "text/plain": [
       "<Figure size 720x288 with 2 Axes>"
      ]
     },
     "metadata": {
      "needs_background": "light"
     },
     "output_type": "display_data"
    }
   ],
   "source": [
    "figure(figsize=(10,4))\n",
    "subplot(121)\n",
    "hist(ns,density=True, label='histogram')\n",
    "xlabel('pili per frame')\n",
    "\n",
    "subplot(122)\n",
    "hist(nBs,density=True, label='histogram')\n",
    "xlabel('binded pili per frame')\n",
    "\n",
    "#savefig('temp_n.png')"
   ]
  },
  {
   "cell_type": "markdown",
   "metadata": {},
   "source": [
    "Pili's length"
   ]
  },
  {
   "cell_type": "code",
   "execution_count": 73,
   "metadata": {},
   "outputs": [],
   "source": [
    "def myExp(x,tau):\n",
    "    return np.exp(-abs(x)/tau)/tau"
   ]
  },
  {
   "cell_type": "code",
   "execution_count": 81,
   "metadata": {},
   "outputs": [
    {
     "data": {
      "text/plain": [
       "Text(0.5, 0, 'average pilus length per frame [$\\\\mu$m]')"
      ]
     },
     "execution_count": 81,
     "metadata": {},
     "output_type": "execute_result"
    },
    {
     "data": {
      "image/png": "[encoded data removed]",
      "text/plain": [
       "<Figure size 720x288 with 2 Axes>"
      ]
     },
     "metadata": {
      "needs_background": "light"
     },
     "output_type": "display_data"
    }
   ],
   "source": [
    "figure(figsize=(10,4))\n",
    "subplot(121)\n",
    "bin_heights,bin_borders,_=hist(Ls,density=True, log=True, label='histogram')\n",
    "bin_centers = bin_borders[:-1] + np.diff(bin_borders) / 2\n",
    "popt, psig = curve_fit(myExp, bin_centers, bin_heights, p0=1)\n",
    "x_sample=np.linspace(0,np.max(bin_borders),100)\n",
    "plot(x_sample,myExp(x_sample,popt[0]),'r', label='exponential fit\\n$l_0$=%.3g$\\pm$%.1g'%(popt[0],np.sqrt(psig[0])))\n",
    "xlabel('pilus length per frame [$\\mu$m]')\n",
    "legend()\n",
    "\n",
    "subplot(122)\n",
    "hist(avgLs,density=True, label='histogram')\n",
    "xlabel('average pilus length per frame [$\\mu$m]')\n",
    "\n",
    "#savefig('temp_L.png')"
   ]
  },
  {
   "cell_type": "code",
   "execution_count": null,
   "metadata": {},
   "outputs": [],
   "source": []
  }
 ],
 "metadata": {
  "kernelspec": {
   "display_name": "Python 3 (ipykernel)",
   "language": "python",
   "name": "python3"
  },
  "language_info": {
   "codemirror_mode": {
    "name": "ipython",
    "version": 3
   },
   "file_extension": ".py",
   "mimetype": "text/x-python",
   "name": "python",
   "nbconvert_exporter": "python",
   "pygments_lexer": "ipython3",
   "version": "3.9.12"
  }
 },
 "nbformat": 4,
 "nbformat_minor": 4
}
