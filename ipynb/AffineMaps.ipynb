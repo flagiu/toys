{
 "cells": [
  {
   "cell_type": "markdown",
   "id": "5b807570",
   "metadata": {},
   "source": [
    "# De Rham curves\n",
    "\n",
    "See the [Wikipedia page](https://en.wikipedia.org/wiki/De_Rham_curve) for reference.\n",
    "\n",
    "### Libraries"
   ]
  },
  {
   "cell_type": "code",
   "execution_count": 1,
   "id": "1d6f6f6f",
   "metadata": {},
   "outputs": [],
   "source": [
    "import numpy as np\n",
    "import matplotlib.pyplot as plt\n",
    "%matplotlib inline\n",
    "import ipywidgets as widgets\n",
    "from tqdm import tqdm"
   ]
  },
  {
   "cell_type": "markdown",
   "id": "783cd4f8",
   "metadata": {},
   "source": [
    "### Algorithm"
   ]
  },
  {
   "cell_type": "code",
   "execution_count": 2,
   "id": "b483cd58",
   "metadata": {
    "scrolled": true
   },
   "outputs": [],
   "source": [
    "def binary_expansion(x: float, nmax=10):\n",
    "    assert x>=0.0 and x<=1.0\n",
    "    coeffs = []\n",
    "    for i in range(1,nmax+1):\n",
    "        binary_term =  2**i\n",
    "        coeffs.append( int(x * binary_term) )\n",
    "        x -= coeffs[-1]/binary_term\n",
    "    return coeffs\n",
    "\n",
    "# function for debugging\n",
    "\"\"\"def binary_approximation(coeffs):\n",
    "    x=0.0\n",
    "    for i in range(len(coeffs)):\n",
    "        x += coeffs[i] / 2**(i+1)\n",
    "    return x\"\"\"\n",
    "\n",
    "# define function composition with one argument\n",
    "def compose (*functions):\n",
    "    def inner(arg):\n",
    "        for f in reversed(functions):\n",
    "            arg = f(arg)\n",
    "        return arg\n",
    "    return inner\n",
    "\n",
    "# De Rham map: [0,1] -> Complex plane\n",
    "def c(d0, d1, x, a, nmax=10):\n",
    "    assert x>=0.0 and x<=1.0\n",
    "    global binary_expansion\n",
    "    # find the binary expansion of x\n",
    "    bs = binary_expansion(x, nmax=nmax)\n",
    "    # compose the functions d0() and d1() accordingly\n",
    "    functions = [d1 if b else d0 for b in bs]\n",
    "    composed = compose(*functions)\n",
    "    return composed(x)\n"
   ]
  },
  {
   "cell_type": "markdown",
   "id": "33be80f1",
   "metadata": {},
   "source": [
    "### Cesàro curves"
   ]
  },
  {
   "cell_type": "code",
   "execution_count": 3,
   "id": "8bb1352e",
   "metadata": {
    "scrolled": false
   },
   "outputs": [
    {
     "name": "stderr",
     "output_type": "stream",
     "text": [
      "Widget Javascript not detected.  It may not be installed or enabled properly. Reconnecting the current kernel may help.\n"
     ]
    },
    {
     "data": {
      "application/vnd.jupyter.widget-view+json": {
       "model_id": "df65c368575b46f3b27fb09768c4aa26"
      }
     },
     "metadata": {},
     "output_type": "display_data"
    }
   ],
   "source": [
    "def render(N=1000, a_real=0.5, a_imag=0.5, nmax=10):\n",
    "    a = a_real + 1j*a_imag\n",
    "    \n",
    "    def d0(z, a=a):\n",
    "        assert abs(a)<1. and abs(1.-a)<1.\n",
    "        return a*z\n",
    "\n",
    "    def d1(z, a=a):\n",
    "        assert abs(a)<1. and abs(1.-a)<1.\n",
    "        return a + (1-a)*z\n",
    "\n",
    "    xs = np.linspace(0.0, 1.0, N)\n",
    "    px = []\n",
    "    py = []\n",
    "    for x in tqdm(xs, desc='Calculating points'):\n",
    "        C = c(d0, d1, x, a, nmax)\n",
    "        px.append( C.real )\n",
    "        py.append( C.imag )\n",
    "    \n",
    "    fig,ax = plt.subplots(figsize=(8,8))\n",
    "    ax.axis('equal')\n",
    "    ax.set_title(f\"Cesàro curve: N={N}, nmax={nmax}, a={a_real:.2f}+{a_imag:.2f}i\")\n",
    "    ax.scatter(px,py, s=1, c='r', marker='.', alpha=0.7)\n",
    "    plt.show()\n",
    "\n",
    "dict_args = {\n",
    "    \"N\": widgets.IntSlider(min=100, max=1e5, step=100, value=1000),\n",
    "    \"a_real\": widgets.FloatSlider(min=-1.0, max=1.0, step=0.01, value=0.5),\n",
    "    \"a_imag\": widgets.FloatSlider(min=-1.0, max=1.0, step=0.01, value=0.5),\n",
    "    \"nmax\": widgets.IntSlider(min=1, max=30, step=1, value=10)\n",
    "}\n",
    "\n",
    "widgets.interact_manual(render, **dict_args);"
   ]
  },
  {
   "cell_type": "markdown",
   "id": "417959e6",
   "metadata": {},
   "source": [
    "### Koch-Peano curves"
   ]
  },
  {
   "cell_type": "code",
   "execution_count": 4,
   "id": "a9e95c11",
   "metadata": {
    "scrolled": false
   },
   "outputs": [
    {
     "name": "stderr",
     "output_type": "stream",
     "text": [
      "Widget Javascript not detected.  It may not be installed or enabled properly. Reconnecting the current kernel may help.\n"
     ]
    },
    {
     "data": {
      "application/vnd.jupyter.widget-view+json": {
       "model_id": "fb7e7232f23d49da97a398d77c0ec7ba"
      }
     },
     "metadata": {},
     "output_type": "display_data"
    }
   ],
   "source": [
    "def render(N=1000, a_real=0.5, a_imag=0.5, nmax=10):\n",
    "    a = a_real + 1j*a_imag\n",
    "    \n",
    "    def d0(z, a=a):\n",
    "        assert abs(a)<1. and abs(1.-a)<1.\n",
    "        return a * z.conjugate()\n",
    "\n",
    "    def d1(z, a=a):\n",
    "        assert abs(a)<1. and abs(1.-a)<1.\n",
    "        return a + (1-a)*z.conjugate()\n",
    "\n",
    "    xs = np.linspace(0.0, 1.0, N)\n",
    "    px = []\n",
    "    py = []\n",
    "    for x in tqdm(xs, desc='Calculating points'):\n",
    "        C = c(d0, d1, x, a, nmax)\n",
    "        px.append( C.real )\n",
    "        py.append( C.imag )\n",
    "    \n",
    "    fig,ax = plt.subplots(figsize=(8,8))\n",
    "    ax.axis('equal')\n",
    "    ax.set_title(f\"Koch-Peano curve: N={N}, nmax={nmax}, a={a_real:.2f}+{a_imag:.2f}i\")\n",
    "    ax.scatter(px,py, s=1, c='r', marker='.', alpha=0.7)\n",
    "    plt.show()\n",
    "\n",
    "\n",
    "dict_args = {\n",
    "    \"N\": widgets.IntSlider(min=100, max=1e5, step=100, value=1000),\n",
    "    \"a_real\": widgets.FloatSlider(min=-1.0, max=1.0, step=0.01, value=0.6),\n",
    "    \"a_imag\": widgets.FloatSlider(min=-1.0, max=1.0, step=0.01, value=0.37),\n",
    "    \"nmax\": widgets.IntSlider(min=1, max=30, step=1, value=10)\n",
    "}\n",
    "\n",
    "widgets.interact_manual(render, **dict_args);"
   ]
  },
  {
   "cell_type": "markdown",
   "id": "fd9e5028",
   "metadata": {},
   "source": [
    "### Minkowski's question mark function (not working...)"
   ]
  },
  {
   "cell_type": "code",
   "execution_count": 9,
   "id": "be096a8f",
   "metadata": {
    "scrolled": false
   },
   "outputs": [
    {
     "name": "stdout",
     "output_type": "stream",
     "text": [
      "\n"
     ]
    }
   ],
   "source": [
    "\"\"\"\n",
    "def render(N=1000, a_real=0.5, a_imag=0.5, nmax=10):\n",
    "    a = a_real + 1j*a_imag\n",
    "    \n",
    "    # here we do not use a.\n",
    "    def d0(z, a=a):\n",
    "        return z / (z+1)\n",
    "\n",
    "    def d1(z, a=a):\n",
    "        return 1. / (2.-z)\n",
    "\n",
    "    xs = np.linspace(0.0, 1.0, N)\n",
    "    px = []\n",
    "    py = []\n",
    "    for x in tqdm(xs, desc='Calculating points'):\n",
    "        C = c(d0, d1, x, a, nmax)\n",
    "        px.append( C.real )\n",
    "        py.append( C.imag )\n",
    "    \n",
    "    fig,ax = plt.subplots(figsize=(8,8))\n",
    "    ax.axis('equal')\n",
    "    ax.set_title(f\"Minkowski's ?(x): N={N}, nmax={nmax}, a={a_real:.2f}+{a_imag:.2f}i\")\n",
    "    ax.scatter(px,py, s=1, c='r', marker='.', alpha=0.7)\n",
    "    plt.show()\n",
    "\n",
    "dict_args = {\n",
    "    \"N\": widgets.IntSlider(min=100, max=1e5, step=100, value=1000),\n",
    "    \"a_real\": widgets.FloatSlider(min=0, max=0, step=0.01, value=0),\n",
    "    \"a_imag\": widgets.FloatSlider(min=0, max=0, step=0.01, value=0),\n",
    "    \"nmax\": widgets.IntSlider(min=1, max=30, step=1, value=10)\n",
    "}\n",
    "\n",
    "widgets.interact_manual(render, **dict_args);\n",
    "\"\"\"\n",
    "print(\"\")"
   ]
  },
  {
   "cell_type": "markdown",
   "id": "070ee42e",
   "metadata": {},
   "source": [
    "### General affine maps\n",
    "They apply to the 2D real plane"
   ]
  },
  {
   "cell_type": "code",
   "execution_count": 10,
   "id": "cab3a794",
   "metadata": {
    "scrolled": false
   },
   "outputs": [
    {
     "name": "stdout",
     "output_type": "stream",
     "text": [
      "a,b paramers define the mid-point of the curve. We choose a=0.5, b=1.0 to be fixed.\n"
     ]
    },
    {
     "name": "stderr",
     "output_type": "stream",
     "text": [
      "Widget Javascript not detected.  It may not be installed or enabled properly. Reconnecting the current kernel may help.\n"
     ]
    },
    {
     "data": {
      "application/vnd.jupyter.widget-view+json": {
       "model_id": "551d64b427e5419f80bcd9786f7ab1cc"
      }
     },
     "metadata": {},
     "output_type": "display_data"
    }
   ],
   "source": [
    "# General affine map: [0,1] -> 2D plane\n",
    "def c_affine(d0, d1, x:float, a,b,d,e,f,g, nmax=10):\n",
    "    global binary_expansion\n",
    "    # find the binary expansion of x\n",
    "    bs = binary_expansion(x, nmax=nmax)\n",
    "    # compose the functions d0() and d1() accordingly\n",
    "    functions = [d1 if b else d0 for b in bs]\n",
    "    composed = compose(*functions)\n",
    "    X = np.array([1.,x,x]).reshape(3,1) #column vector\n",
    "    return composed(X)\n",
    "\n",
    "# rendering function, implementing the algorithm\n",
    "def render_affine(N=1000, a=0.5, b=1.0, d=0.5, e=0.5, f=0.5, g=0.5, nmax=10):\n",
    "    def d0(x, a=a,b=b,d=d,e=e):\n",
    "        M = np.matrix([ \n",
    "            [1., 0., 0.],\n",
    "            [0., a , d ],\n",
    "            [0., b , e ]\n",
    "        ])\n",
    "        return M @ x\n",
    "\n",
    "    def d1(x, a=a,b=b,f=f,g=g):\n",
    "        M = np.matrix([ \n",
    "            [1., 0., 0.],\n",
    "            [a ,1.-a,f],\n",
    "            [b , -b, g]\n",
    "        ])\n",
    "        return M @ x\n",
    "    \n",
    "    xs = np.linspace(0.0, 1.0, N)\n",
    "    px = []\n",
    "    py = []\n",
    "    for x in tqdm(xs, desc='Calculating'):\n",
    "        C = c_affine(d0, d1, x, a,b,d,e,f,g, nmax) # shape (3,1)\n",
    "        px.append( C[1,0] )\n",
    "        py.append( C[2,0] )\n",
    "    \n",
    "    fig,ax = plt.subplots(figsize=(8,8))\n",
    "    ax.axis('equal')\n",
    "    ax.set_title(f\"General affine map: N={N}, nmax={nmax},\\n\"\n",
    "                 +\"a,b,d,e,f,g=%.2f,%.2f,%.2f,%.2f,%.2f,%.2f\"%(a,b,d,e,f,g))\n",
    "    ax.scatter(px, py, s=1, c='r', marker='.', alpha=0.9)\n",
    "    plt.show()\n",
    "\n",
    "dict_args = {\n",
    "    \"N\": widgets.IntSlider(min=100, max=1e5, step=100, value=1000),\n",
    "    \"a\": widgets.FloatSlider(min=0.5, max=0.5, step=0.01, value=0.5),\n",
    "    \"b\": widgets.FloatSlider(min= 1.,  max=1., step=0.01, value=1.0),\n",
    "    \"d\": widgets.FloatSlider(min=-1.0, max=1.0, step=0.01, value=0.33),\n",
    "    \"e\": widgets.FloatSlider(min=-1.0, max=1.0, step=0.01, value=-0.38),\n",
    "    \"f\": widgets.FloatSlider(min=-1.0, max=1.0, step=0.01, value=-0.18),\n",
    "    \"g\": widgets.FloatSlider(min=-1.0, max=1.0, step=0.01, value=-0.42),\n",
    "    \"nmax\": widgets.IntSlider(min=1, max=30, step=1, value=10)\n",
    "}\n",
    "print(\"a,b paramers define the mid-point of the curve. We choose a=0.5, b=1.0 to be fixed.\")\n",
    "\n",
    "widgets.interact_manual(render_affine, **dict_args);"
   ]
  },
  {
   "cell_type": "code",
   "execution_count": null,
   "id": "8d687c81",
   "metadata": {},
   "outputs": [],
   "source": []
  }
 ],
 "metadata": {
  "kernelspec": {
   "display_name": "Python 3 (ipykernel)",
   "language": "python",
   "name": "python3"
  },
  "language_info": {
   "codemirror_mode": {
    "name": "ipython",
    "version": 3
   },
   "file_extension": ".py",
   "mimetype": "text/x-python",
   "name": "python",
   "nbconvert_exporter": "python",
   "pygments_lexer": "ipython3",
   "version": "3.10.6"
  }
 },
 "nbformat": 4,
 "nbformat_minor": 5
}
